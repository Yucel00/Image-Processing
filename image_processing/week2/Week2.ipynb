{
 "cells": [
  {
   "cell_type": "code",
   "execution_count": 1,
   "id": "09dc16b6-dc66-492a-b537-933c892c9ac8",
   "metadata": {},
   "outputs": [],
   "source": [
    "import cv2\n",
    "import numpy as np\n",
    "\n"
   ]
  },
  {
   "cell_type": "code",
   "execution_count": 3,
   "id": "a5dc06c6-a3ed-47b2-bfd6-55cf46768bd6",
   "metadata": {},
   "outputs": [],
   "source": [
    "my_img= cv2.imread(\"./Ornn_2.jpg\",1) #imageimizi okuyoruz 1 renkli olarak okuyo\n",
    "my_img2= cv2.imread(\"./Ornn_2.jpg\",0)# 0 gri olarak okuyo"
   ]
  },
  {
   "cell_type": "code",
   "execution_count": 4,
   "id": "b922afb4-04a9-4f7a-a910-4cbd3d44756b",
   "metadata": {},
   "outputs": [
    {
     "name": "stdout",
     "output_type": "stream",
     "text": [
      "<class 'numpy.ndarray'>\n",
      "**************************************************\n",
      "<class 'numpy.ndarray'>\n",
      "(717, 1215, 3)\n",
      "(717, 1215)\n"
     ]
    }
   ],
   "source": [
    "print(type(my_img))\n",
    "print(\"*\"*50)\n",
    "print(type(my_img2))\n",
    "print(my_img.shape)\n",
    "print(my_img2.shape)"
   ]
  },
  {
   "cell_type": "code",
   "execution_count": 5,
   "id": "f97bc64c-0322-4759-ada0-2c696e0171ef",
   "metadata": {},
   "outputs": [
    {
     "data": {
      "text/plain": [
       "array([[[50, 41, 32]]], dtype=uint8)"
      ]
     },
     "execution_count": 5,
     "metadata": {},
     "output_type": "execute_result"
    }
   ],
   "source": [
    "my_img[:1,:1,:]"
   ]
  },
  {
   "cell_type": "code",
   "execution_count": 6,
   "id": "245c78eb-18c5-4bdc-89f3-656df0a53818",
   "metadata": {},
   "outputs": [
    {
     "name": "stdout",
     "output_type": "stream",
     "text": [
      "255\n",
      "0\n"
     ]
    }
   ],
   "source": [
    "print(np.max(my_img))\n",
    "print(np.min(my_img))"
   ]
  },
  {
   "cell_type": "code",
   "execution_count": 9,
   "id": "3d397088-6344-4650-963d-b2f2a0e4743f",
   "metadata": {},
   "outputs": [],
   "source": [
    "cv2.imshow(\"RGB Image\",my_img)#resmimizi RGB olarak gosteriyoruz\n",
    "cv2.imshow(\"Gray Image\",my_img2)#ikinci resmimizi gri olarak gosteriyoruz\n",
    "cv2.waitKey(0)#biz bi tusa basana kadar beklicek\n",
    "cv2.destroyAllWindows()"
   ]
  },
  {
   "cell_type": "code",
   "execution_count": 8,
   "id": "5a15f16b-78f2-4c25-91cc-8e6efff8d34f",
   "metadata": {},
   "outputs": [],
   "source": [
    "cv2.imshow(\"RGB Image\",my_img)#resmimizi RGB olarak gosteriyoruz\n",
    "cv2.waitKey(0)#biz bi tusa basana kadar beklicek\n",
    "cv2.destroyAllWindows()"
   ]
  },
  {
   "cell_type": "code",
   "execution_count": null,
   "id": "9c9da89a-325c-4b98-ac04-156cb6518039",
   "metadata": {},
   "outputs": [],
   "source": [
    "flipping_vertical=cv2.flip(my_img,0)#dikey olarak takla attiriyoruz 0 onemli dikey\n",
    "flipping_horizontal=cv2.flip(my_img,1)#yatay olarak takla attiriyoruz 1 onemli yatay\n",
    "flipping_both=cv2.flip(my_img,-1)#hem yatay hem dikey takla attiriyoruz -1 onemli hem dikey hem yatay"
   ]
  },
  {
   "cell_type": "code",
   "execution_count": null,
   "id": "4d7d74d1-68d6-4532-8dd7-0c5de94af52c",
   "metadata": {},
   "outputs": [],
   "source": [
    "#resimleri gosterdigimiz kisim\n",
    "cv2.imshow(\"Orginal Image\",my_img)\n",
    "cv2.imshow(\"vertical Image\",flipping_vertical)\n",
    "cv2.imshow(\"Horizantal Image\",flipping_horizontal)\n",
    "cv2.imshow(\"Vertical And Horizontal Image\",flipping_both)\n",
    "cv2.waitKey(0)"
   ]
  },
  {
   "cell_type": "code",
   "execution_count": null,
   "id": "284124ce-fc9e-4a07-a620-89b72d730312",
   "metadata": {},
   "outputs": [],
   "source": [
    "new_vertical=my_img[::-1 ,: -1,:]\n",
    "cv2.imshow(\"vertical Image\",new_vertical)\n",
    "cv2.imshow(\"Orginal Image\",my_img)\n",
    "cv2.waitKey(0)"
   ]
  },
  {
   "cell_type": "code",
   "execution_count": null,
   "id": "37ec9b4e-54b8-4e3f-9429-8f3311457739",
   "metadata": {},
   "outputs": [],
   "source": [
    "new_horizontal=my_img[:,::-1,:]\n",
    "cv2.imshow(\"Horizontal Image\",new_horizontal)\n",
    "cv2.imshow(\"Orginal Image\",my_img)\n",
    "\n",
    "cv2.waitKey()\n"
   ]
  },
  {
   "cell_type": "code",
   "execution_count": null,
   "id": "2de8b8d6-f127-4431-9050-ea27085474ba",
   "metadata": {},
   "outputs": [],
   "source": [
    "my_img.shape"
   ]
  },
  {
   "cell_type": "code",
   "execution_count": null,
   "id": "615bcf9a-5231-4060-82f6-c2e5c0426626",
   "metadata": {},
   "outputs": [],
   "source": [
    "resized_img=cv2.resize(my_img,(607,358),cv2.INTER_LANCZOS4)\n",
    "cv2.imshow(\"Orginal Image\",my_img)\n",
    "cv2.imshow(\"Resized Image\",resized_img)\n",
    "cv2.waitKey(0)\n"
   ]
  },
  {
   "cell_type": "code",
   "execution_count": null,
   "id": "d60344ef-3995-4ea2-b843-055c1ebf9f05",
   "metadata": {},
   "outputs": [],
   "source": []
  }
 ],
 "metadata": {
  "kernelspec": {
   "display_name": "env_bst",
   "language": "python",
   "name": "env_bst"
  },
  "language_info": {
   "codemirror_mode": {
    "name": "ipython",
    "version": 3
   },
   "file_extension": ".py",
   "mimetype": "text/x-python",
   "name": "python",
   "nbconvert_exporter": "python",
   "pygments_lexer": "ipython3",
   "version": "3.10.10"
  }
 },
 "nbformat": 4,
 "nbformat_minor": 5
}
